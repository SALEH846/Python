{
  "nbformat": 4,
  "nbformat_minor": 0,
  "metadata": {
    "colab": {
      "name": "Creating ASCII art text in python.ipynb",
      "provenance": []
    },
    "kernelspec": {
      "name": "python3",
      "display_name": "Python 3"
    },
    "language_info": {
      "name": "python"
    }
  },
  "cells": [
    {
      "cell_type": "code",
      "metadata": {
        "colab": {
          "base_uri": "https://localhost:8080/"
        },
        "id": "kDGccqC-yzvm",
        "outputId": "b0a31520-07c3-4f51-b119-1fdbcf17910e"
      },
      "source": [
        "!pip install pyfiglet # For the purpose of creating ASCII art text we are using a library named pyfiglet\n",
        "from pyfiglet import figlet_format"
      ],
      "execution_count": 2,
      "outputs": [
        {
          "output_type": "stream",
          "text": [
            "Collecting pyfiglet\n",
            "\u001b[?25l  Downloading https://files.pythonhosted.org/packages/33/07/fcfdd7a2872f5b348953de35acce1544dab0c1e8368dca54279b1cde5c15/pyfiglet-0.8.post1-py2.py3-none-any.whl (865kB)\n",
            "\u001b[K     |████████████████████████████████| 870kB 5.3MB/s \n",
            "\u001b[?25hInstalling collected packages: pyfiglet\n",
            "Successfully installed pyfiglet-0.8.post1\n"
          ],
          "name": "stdout"
        }
      ]
    },
    {
      "cell_type": "markdown",
      "metadata": {
        "id": "PtTSHGb7zW6m"
      },
      "source": [
        "# Trying different fonts"
      ]
    },
    {
      "cell_type": "markdown",
      "metadata": {
        "id": "ADUwyZQgz66E"
      },
      "source": [
        "Stadard Font"
      ]
    },
    {
      "cell_type": "code",
      "metadata": {
        "colab": {
          "base_uri": "https://localhost:8080/"
        },
        "id": "Bl09WVoJy-T9",
        "outputId": "5c2bc9fc-1eb9-4604-e897-a71d4514cc61"
      },
      "source": [
        "print(figlet_format(\"Saleh\", font=\"standard\"))"
      ],
      "execution_count": 3,
      "outputs": [
        {
          "output_type": "stream",
          "text": [
            " ____        _      _     \n",
            "/ ___|  __ _| | ___| |__  \n",
            "\\___ \\ / _` | |/ _ \\ '_ \\ \n",
            " ___) | (_| | |  __/ | | |\n",
            "|____/ \\__,_|_|\\___|_| |_|\n",
            "                          \n",
            "\n"
          ],
          "name": "stdout"
        }
      ]
    },
    {
      "cell_type": "markdown",
      "metadata": {
        "id": "nN3yAOeB0U6t"
      },
      "source": [
        "Banner"
      ]
    },
    {
      "cell_type": "code",
      "metadata": {
        "colab": {
          "base_uri": "https://localhost:8080/"
        },
        "id": "4TWaAsk00JoF",
        "outputId": "5b9ce8e4-b7cf-43a1-9e59-65abfdd77c8e"
      },
      "source": [
        "print(figlet_format(\"Code\", font=\"banner\"))"
      ],
      "execution_count": 4,
      "outputs": [
        {
          "output_type": "stream",
          "text": [
            " #####                       \n",
            "#     #  ####  #####  ###### \n",
            "#       #    # #    # #      \n",
            "#       #    # #    # #####  \n",
            "#       #    # #    # #      \n",
            "#     # #    # #    # #      \n",
            " #####   ####  #####  ###### \n",
            "                             \n",
            "\n"
          ],
          "name": "stdout"
        }
      ]
    },
    {
      "cell_type": "markdown",
      "metadata": {
        "id": "trxPbw850ZN9"
      },
      "source": [
        "Barbwire"
      ]
    },
    {
      "cell_type": "code",
      "metadata": {
        "colab": {
          "base_uri": "https://localhost:8080/"
        },
        "id": "Bmjay_eO0XHu",
        "outputId": "23449223-d13b-4733-ef96-58ce29df1a01"
      },
      "source": [
        "print(figlet_format(\"Python\", font=\"barbwire\"))"
      ],
      "execution_count": 5,
      "outputs": [
        {
          "output_type": "stream",
          "text": [
            "><<<<<<<             ><<                             \n",
            "><<    ><<           ><<  ><<                        \n",
            "><<    ><<><<   ><<><>< ><><<        ><<    ><< ><<  \n",
            "><<<<<<<   ><< ><<   ><<  >< ><    ><<  ><<  ><<  ><<\n",
            "><<          ><<<    ><<  ><<  ><<><<    ><< ><<  ><<\n",
            "><<           ><<    ><<  ><   ><< ><<  ><<  ><<  ><<\n",
            "><<          ><<      ><< ><<  ><<   ><<    ><<<  ><<\n",
            "           ><<                                       \n",
            "\n"
          ],
          "name": "stdout"
        }
      ]
    },
    {
      "cell_type": "markdown",
      "metadata": {
        "id": "lTNKpds50l3v"
      },
      "source": [
        "Doh"
      ]
    },
    {
      "cell_type": "code",
      "metadata": {
        "colab": {
          "base_uri": "https://localhost:8080/"
        },
        "id": "L1scfBhf0gQ8",
        "outputId": "24ab29e8-1d85-473a-c695-3e5940299956"
      },
      "source": [
        "print(figlet_format(\"Data\", font=\"doh\"))"
      ],
      "execution_count": 6,
      "outputs": [
        {
          "output_type": "stream",
          "text": [
            "                                                                              \n",
            "                                                                              \n",
            "DDDDDDDDDDDDD                                 tttt                            \n",
            "D::::::::::::DDD                           ttt:::t                            \n",
            "D:::::::::::::::DD                         t:::::t                            \n",
            "DDD:::::DDDDD:::::D                        t:::::t                            \n",
            "  D:::::D    D:::::D  aaaaaaaaaaaaa  ttttttt:::::ttttttt      aaaaaaaaaaaaa   \n",
            "  D:::::D     D:::::D a::::::::::::a t:::::::::::::::::t      a::::::::::::a  \n",
            "  D:::::D     D:::::D aaaaaaaaa:::::at:::::::::::::::::t      aaaaaaaaa:::::a \n",
            "  D:::::D     D:::::D          a::::atttttt:::::::tttttt               a::::a \n",
            "  D:::::D     D:::::D   aaaaaaa:::::a      t:::::t              aaaaaaa:::::a \n",
            "  D:::::D     D:::::D aa::::::::::::a      t:::::t            aa::::::::::::a \n",
            "  D:::::D     D:::::Da::::aaaa::::::a      t:::::t           a::::aaaa::::::a \n",
            "  D:::::D    D:::::Da::::a    a:::::a      t:::::t    tttttta::::a    a:::::a \n",
            "DDD:::::DDDDD:::::D a::::a    a:::::a      t::::::tttt:::::ta::::a    a:::::a \n",
            "D:::::::::::::::DD  a:::::aaaa::::::a      tt::::::::::::::ta:::::aaaa::::::a \n",
            "D::::::::::::DDD     a::::::::::aa:::a       tt:::::::::::tt a::::::::::aa:::a\n",
            "DDDDDDDDDDDDD         aaaaaaaaaa  aaaa         ttttttttttt    aaaaaaaaaa  aaaa\n",
            "                                                                              \n",
            "                                                                              \n",
            "                                                                              \n",
            "                                                                              \n",
            "                                                                              \n",
            "                                                                              \n",
            "                                                                              \n",
            "\n"
          ],
          "name": "stdout"
        }
      ]
    },
    {
      "cell_type": "markdown",
      "metadata": {
        "id": "zo9nhb9d1DQm"
      },
      "source": [
        "isometric1"
      ]
    },
    {
      "cell_type": "code",
      "metadata": {
        "colab": {
          "base_uri": "https://localhost:8080/"
        },
        "id": "xW2P0E2H03CV",
        "outputId": "4f961619-f993-424b-fade-d3069b3b6f98"
      },
      "source": [
        "print(figlet_format(\"Saleh\", font=\"isometric1\"))"
      ],
      "execution_count": 7,
      "outputs": [
        {
          "output_type": "stream",
          "text": [
            "      ___           ___           ___       ___           ___     \n",
            "     /\\  \\         /\\  \\         /\\__\\     /\\  \\         /\\__\\    \n",
            "    /::\\  \\       /::\\  \\       /:/  /    /::\\  \\       /:/  /    \n",
            "   /:/\\ \\  \\     /:/\\:\\  \\     /:/  /    /:/\\:\\  \\     /:/__/     \n",
            "  _\\:\\~\\ \\  \\   /::\\~\\:\\  \\   /:/  /    /::\\~\\:\\  \\   /::\\  \\ ___ \n",
            " /\\ \\:\\ \\ \\__\\ /:/\\:\\ \\:\\__\\ /:/__/    /:/\\:\\ \\:\\__\\ /:/\\:\\  /\\__\\\n",
            " \\:\\ \\:\\ \\/__/ \\/__\\:\\/:/  / \\:\\  \\    \\:\\~\\:\\ \\/__/ \\/__\\:\\/:/  /\n",
            "  \\:\\ \\:\\__\\        \\::/  /   \\:\\  \\    \\:\\ \\:\\__\\        \\::/  / \n",
            "   \\:\\/:/  /        /:/  /     \\:\\  \\    \\:\\ \\/__/        /:/  /  \n",
            "    \\::/  /        /:/  /       \\:\\__\\    \\:\\__\\         /:/  /   \n",
            "     \\/__/         \\/__/         \\/__/     \\/__/         \\/__/    \n",
            "\n"
          ],
          "name": "stdout"
        }
      ]
    },
    {
      "cell_type": "markdown",
      "metadata": {
        "id": "8A3F83JMjDR3"
      },
      "source": [
        "isometric4"
      ]
    },
    {
      "cell_type": "code",
      "metadata": {
        "colab": {
          "base_uri": "https://localhost:8080/"
        },
        "id": "PP_Sl5to1G_d",
        "outputId": "2dc1363b-6226-4442-dffe-e87c59ec2329"
      },
      "source": [
        "print(figlet_format(\"Saleh\", font=\"isometric4\"))"
      ],
      "execution_count": 8,
      "outputs": [
        {
          "output_type": "stream",
          "text": [
            "      ___           ___           ___       ___           ___     \n",
            "     /  /\\         /  /\\         /  /\\     /  /\\         /  /\\    \n",
            "    /  /::\\       /  /::\\       /  /:/    /  /::\\       /  /:/    \n",
            "   /__/:/\\:\\     /  /:/\\:\\     /  /:/    /  /:/\\:\\     /  /:/     \n",
            "  _\\_ \\:\\ \\:\\   /  /::\\ \\:\\   /  /:/    /  /::\\ \\:\\   /  /::\\ ___ \n",
            " /__/\\ \\:\\ \\:\\ /__/:/\\:\\_\\:\\ /__/:/    /__/:/\\:\\ \\:\\ /__/:/\\:\\  /\\\n",
            " \\  \\:\\ \\:\\_\\/ \\__\\/  \\:\\/:/ \\  \\:\\    \\  \\:\\ \\:\\_\\/ \\__\\/  \\:\\/:/\n",
            "  \\  \\:\\_\\:\\        \\__\\::/   \\  \\:\\    \\  \\:\\ \\:\\        \\__\\::/ \n",
            "   \\  \\:\\/:/        /  /:/     \\  \\:\\    \\  \\:\\_\\/        /  /:/  \n",
            "    \\  \\::/        /__/:/       \\  \\:\\    \\  \\:\\         /__/:/   \n",
            "     \\__\\/         \\__\\/         \\__\\/     \\__\\/         \\__\\/    \n",
            "\n"
          ],
          "name": "stdout"
        }
      ]
    },
    {
      "cell_type": "markdown",
      "metadata": {
        "id": "hhqK140ojNsn"
      },
      "source": [
        "There are more than 50 font styles available which you can check [here](http://www.figlet.org/examples.html) and select the one which you like the most"
      ]
    },
    {
      "cell_type": "markdown",
      "metadata": {
        "id": "aXKgsgN8jwmS"
      },
      "source": [
        "# Write to a text file"
      ]
    },
    {
      "cell_type": "code",
      "metadata": {
        "id": "r5ZYLcQ7jIOk"
      },
      "source": [
        "txt_file = open(\"output1.txt\", 'a')\n",
        "text = figlet_format(\"code\", font=\"isometric1\")\n",
        "txt_file.write(text)\n",
        "txt_file.close()"
      ],
      "execution_count": 10,
      "outputs": []
    }
  ]
}