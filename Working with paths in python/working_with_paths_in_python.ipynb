{
 "cells": [
  {
   "cell_type": "markdown",
   "id": "8748b11e-6521-4e39-9a65-b104cfe2a0d8",
   "metadata": {},
   "source": [
    "## Hard coding paths"
   ]
  },
  {
   "cell_type": "markdown",
   "id": "5ff799f3-babb-4978-bf48-77803d9558c7",
   "metadata": {},
   "source": [
    "##### It is not a good practice to hardcode the paths"
   ]
  },
  {
   "cell_type": "code",
   "execution_count": 1,
   "id": "d1e1e38f-0879-4e59-b9dd-efbd16d8292e",
   "metadata": {},
   "outputs": [
    {
     "name": "stdout",
     "output_type": "stream",
     "text": [
      "{'setting': 'a', 'config': 'b'}\n"
     ]
    }
   ],
   "source": [
    "import json\n",
    "\n",
    "with open(\"settings/config.json\") as fhandle:\n",
    "    data = json.loads(fhandle.read())\n",
    "    \n",
    "print(data)"
   ]
  },
  {
   "cell_type": "markdown",
   "id": "94c58978-5904-46e3-8fbd-1007c302782a",
   "metadata": {},
   "source": [
    "## `os.path` module"
   ]
  },
  {
   "cell_type": "markdown",
   "id": "4cb88a9b-480c-46c5-ad0f-d23de3293e3d",
   "metadata": {},
   "source": [
    "##### The `os.path.join` function will join the path(that you give it in single individual peices) according to the file system you are using and return a relative path"
   ]
  },
  {
   "cell_type": "code",
   "execution_count": 2,
   "id": "a180e5bc-af4a-4025-9b79-34b878982f38",
   "metadata": {},
   "outputs": [
    {
     "data": {
      "text/plain": [
       "'settings\\\\config.json'"
      ]
     },
     "execution_count": 2,
     "metadata": {},
     "output_type": "execute_result"
    }
   ],
   "source": [
    "import os\n",
    "\n",
    "os.path.join(\"settings\", \"config.json\")"
   ]
  },
  {
   "cell_type": "markdown",
   "id": "06af52c9-a182-4de3-a224-eb6900128cdf",
   "metadata": {},
   "source": [
    "##### Another useful function is `os.path.abspath` to which if we will pass a relative path then it will convert it into an absolute path"
   ]
  },
  {
   "cell_type": "code",
   "execution_count": 3,
   "id": "15626538-81d5-4647-9f02-94f07b580ba8",
   "metadata": {},
   "outputs": [
    {
     "data": {
      "text/plain": [
       "'E:\\\\github_work\\\\Python libraries(not final)\\\\settings\\\\config.json'"
      ]
     },
     "execution_count": 3,
     "metadata": {},
     "output_type": "execute_result"
    }
   ],
   "source": [
    "path1 = os.path.abspath(os.path.join(\"settings\", \"config.json\"))\n",
    "path1"
   ]
  },
  {
   "cell_type": "markdown",
   "id": "d1f0cae8-0cd9-4300-b0b3-67dd3b4ed148",
   "metadata": {},
   "source": [
    "##### `os.path.exists` function checks whether or not certain path exists or not"
   ]
  },
  {
   "cell_type": "code",
   "execution_count": 4,
   "id": "612730d1-2217-44ed-8f7f-b41617853d6a",
   "metadata": {},
   "outputs": [
    {
     "data": {
      "text/plain": [
       "True"
      ]
     },
     "execution_count": 4,
     "metadata": {},
     "output_type": "execute_result"
    }
   ],
   "source": [
    "os.path.exists(path1)"
   ]
  },
  {
   "cell_type": "markdown",
   "id": "e8ac60e6-f011-4d53-9f8b-a87b452f36f8",
   "metadata": {},
   "source": [
    "##### one problem with `os.path` module is that it outputs a path as string"
   ]
  },
  {
   "cell_type": "code",
   "execution_count": 5,
   "id": "34c2f0ab-ff60-497c-a58a-051198d2255b",
   "metadata": {},
   "outputs": [
    {
     "data": {
      "text/plain": [
       "str"
      ]
     },
     "execution_count": 5,
     "metadata": {},
     "output_type": "execute_result"
    }
   ],
   "source": [
    "type(path1)"
   ]
  },
  {
   "cell_type": "markdown",
   "id": "af74f948-c25a-4d03-aee4-31823cb2b337",
   "metadata": {},
   "source": [
    "##### The more modern answer to this problem is `pathlib` module which return paths as an object"
   ]
  },
  {
   "cell_type": "markdown",
   "id": "f2f17459-a023-4fb6-9b69-97404e3832f2",
   "metadata": {},
   "source": [
    "## `pathlib` module"
   ]
  },
  {
   "cell_type": "code",
   "execution_count": 6,
   "id": "f88c9fbc-d133-406a-b31a-ca3bcf029a22",
   "metadata": {},
   "outputs": [
    {
     "data": {
      "text/plain": [
       "WindowsPath('.')"
      ]
     },
     "execution_count": 6,
     "metadata": {},
     "output_type": "execute_result"
    }
   ],
   "source": [
    "import pathlib\n",
    "\n",
    "pathlib.Path() # returns a relative path which points to where you are now"
   ]
  },
  {
   "cell_type": "markdown",
   "id": "94dee018-5df7-48ba-a3ca-f90bddf859e5",
   "metadata": {},
   "source": [
    "##### benefit of paths as path object is that we can call methods on them easily. Examples are shown below"
   ]
  },
  {
   "cell_type": "code",
   "execution_count": 7,
   "id": "b45e6dc5-89da-4e97-b9bd-ad39577fabf5",
   "metadata": {},
   "outputs": [
    {
     "data": {
      "text/plain": [
       "WindowsPath('settings/config.json')"
      ]
     },
     "execution_count": 7,
     "metadata": {},
     "output_type": "execute_result"
    }
   ],
   "source": [
    "path2 = pathlib.Path(\"settings\", \"config.json\")\n",
    "path2"
   ]
  },
  {
   "cell_type": "code",
   "execution_count": 8,
   "id": "6ef5f3c8-184a-4243-8b00-1c893a8665d5",
   "metadata": {},
   "outputs": [
    {
     "data": {
      "text/plain": [
       "True"
      ]
     },
     "execution_count": 8,
     "metadata": {},
     "output_type": "execute_result"
    }
   ],
   "source": [
    "path2.exists()"
   ]
  },
  {
   "cell_type": "markdown",
   "id": "abfef70c-471a-48c9-83b3-6f359eccda09",
   "metadata": {},
   "source": [
    "##### It also has a very useful `read_text()` method"
   ]
  },
  {
   "cell_type": "code",
   "execution_count": 9,
   "id": "d8ae69b2-b9d2-4790-b5ef-c2b5e2b9834f",
   "metadata": {},
   "outputs": [
    {
     "data": {
      "text/plain": [
       "'{\\n    \"setting\": \"a\",\\n    \"config\": \"b\"\\n}'"
      ]
     },
     "execution_count": 9,
     "metadata": {},
     "output_type": "execute_result"
    }
   ],
   "source": [
    "path2.read_text()"
   ]
  },
  {
   "cell_type": "code",
   "execution_count": 10,
   "id": "e9c58c95-5373-4710-8d04-fa1c98622a6b",
   "metadata": {},
   "outputs": [
    {
     "data": {
      "text/plain": [
       "{'setting': 'a', 'config': 'b'}"
      ]
     },
     "execution_count": 10,
     "metadata": {},
     "output_type": "execute_result"
    }
   ],
   "source": [
    "json.loads(path2.read_text())"
   ]
  },
  {
   "cell_type": "markdown",
   "id": "be75ab9d-19b9-4beb-be35-27cd255475a2",
   "metadata": {},
   "source": [
    "### Some important properties `pathlib.Path` object"
   ]
  },
  {
   "cell_type": "markdown",
   "id": "68b1786b-4d65-41c9-9c65-d7c44a20e187",
   "metadata": {},
   "source": [
    "##### By using `parts()` method we can extract a tuple of individual path elements"
   ]
  },
  {
   "cell_type": "code",
   "execution_count": 11,
   "id": "ff4792f1-2d49-44b1-9cf1-2a4491504d84",
   "metadata": {},
   "outputs": [
    {
     "data": {
      "text/plain": [
       "('settings', 'config.json')"
      ]
     },
     "execution_count": 11,
     "metadata": {},
     "output_type": "execute_result"
    }
   ],
   "source": [
    "path2.parts"
   ]
  },
  {
   "cell_type": "markdown",
   "id": "5cbac46b-05c6-4930-a8d8-0327e60664a9",
   "metadata": {},
   "source": [
    "##### We can also check whether some particular path is file or directory"
   ]
  },
  {
   "cell_type": "code",
   "execution_count": 12,
   "id": "283e16b7-884b-4b5d-8a0b-7a3d45f34a54",
   "metadata": {},
   "outputs": [
    {
     "data": {
      "text/plain": [
       "False"
      ]
     },
     "execution_count": 12,
     "metadata": {},
     "output_type": "execute_result"
    }
   ],
   "source": [
    "path2.is_dir()"
   ]
  },
  {
   "cell_type": "code",
   "execution_count": 13,
   "id": "29f46677-503e-4f70-bfd6-5f9e5ae5ed25",
   "metadata": {},
   "outputs": [
    {
     "data": {
      "text/plain": [
       "True"
      ]
     },
     "execution_count": 13,
     "metadata": {},
     "output_type": "execute_result"
    }
   ],
   "source": [
    "path2.is_file()"
   ]
  },
  {
   "cell_type": "markdown",
   "id": "a6b64e60-55d8-4dc9-991b-4c8682dcea13",
   "metadata": {},
   "source": [
    "##### We can also convert relative path into absolute path by using `resolve()` method"
   ]
  },
  {
   "cell_type": "code",
   "execution_count": 14,
   "id": "2066b4cf-d385-46f9-ab77-07b145b5791f",
   "metadata": {},
   "outputs": [
    {
     "data": {
      "text/plain": [
       "WindowsPath('E:/github_work/Python libraries(not final)/settings/config.json')"
      ]
     },
     "execution_count": 14,
     "metadata": {},
     "output_type": "execute_result"
    }
   ],
   "source": [
    "path2.resolve()"
   ]
  },
  {
   "cell_type": "markdown",
   "id": "410e111c-f809-4dd4-ac5b-7f2b38f13e70",
   "metadata": {},
   "source": [
    "##### We can also compare two paths to check whether they point to same file/directory or not by using `samefile()` method"
   ]
  },
  {
   "cell_type": "code",
   "execution_count": 15,
   "id": "d67acad8-4262-4b99-bde7-3ec0b5f30b2b",
   "metadata": {},
   "outputs": [
    {
     "data": {
      "text/plain": [
       "True"
      ]
     },
     "execution_count": 15,
     "metadata": {},
     "output_type": "execute_result"
    }
   ],
   "source": [
    "path2.resolve().samefile(path2)"
   ]
  },
  {
   "cell_type": "markdown",
   "id": "d5281ffc-ca6f-4518-824a-32ff13adcdec",
   "metadata": {},
   "source": [
    "##### We can also extract the suffix of the path using `suffix` attribute"
   ]
  },
  {
   "cell_type": "code",
   "execution_count": 16,
   "id": "78aeba29-1bcd-4b12-8720-9ac6b3b87cf1",
   "metadata": {},
   "outputs": [
    {
     "data": {
      "text/plain": [
       "'.json'"
      ]
     },
     "execution_count": 16,
     "metadata": {},
     "output_type": "execute_result"
    }
   ],
   "source": [
    "path2.suffix"
   ]
  },
  {
   "cell_type": "markdown",
   "id": "8d88d38b-3914-4008-99cc-9df571a55a6d",
   "metadata": {},
   "source": [
    "### Moving files from one directory to another"
   ]
  },
  {
   "cell_type": "markdown",
   "id": "35667742-c9df-42e2-9856-b4dc5137a2fc",
   "metadata": {},
   "source": [
    "##### Here, we are moving a file named `config2.json` from `settings` directory to `data` directory and renaming it as `configuration.json`\n",
    "##### *NOTE:* The `data` directory must be present before you perform the operation of moving the file"
   ]
  },
  {
   "cell_type": "code",
   "execution_count": 18,
   "id": "2f76eedf-79a3-4376-bbc3-12117f6da5d4",
   "metadata": {},
   "outputs": [
    {
     "data": {
      "text/plain": [
       "WindowsPath('data/configuration.json')"
      ]
     },
     "execution_count": 18,
     "metadata": {},
     "output_type": "execute_result"
    }
   ],
   "source": [
    "path_from = pathlib.Path(\"settings\", \"config2.json\")\n",
    "path_to = pathlib.Path(\"data\", \"configuration.json\")\n",
    "path_from.rename(path_to)"
   ]
  },
  {
   "cell_type": "markdown",
   "id": "3a322154-d718-4c24-ad34-4ff40991f81b",
   "metadata": {},
   "source": [
    "### Making new files and writing into them"
   ]
  },
  {
   "cell_type": "markdown",
   "id": "84c15e37-b5ff-4760-a30e-eae72a479b07",
   "metadata": {},
   "source": [
    "##### We can also create new files and write data into them"
   ]
  },
  {
   "cell_type": "code",
   "execution_count": 19,
   "id": "b944be2b-41dc-4ad0-b0e3-7d735f2c2c6e",
   "metadata": {},
   "outputs": [
    {
     "data": {
      "text/plain": [
       "31"
      ]
     },
     "execution_count": 19,
     "metadata": {},
     "output_type": "execute_result"
    }
   ],
   "source": [
    "text_to_write = json.dumps(data) # Converting dict into str in order to write as plain text\n",
    "pathlib.Path(\"settings\", \"config-3.json\").write_text(text_to_write)"
   ]
  },
  {
   "cell_type": "markdown",
   "id": "ef515ea6-6132-4a9f-b0fd-57469f2d26db",
   "metadata": {},
   "source": [
    "### Making new directories and files and writing into them"
   ]
  },
  {
   "cell_type": "markdown",
   "id": "e6c2b6a5-b9be-43e5-88dd-27029c1f1668",
   "metadata": {},
   "source": [
    "##### First, I will create a `create_json()` function which will create json files"
   ]
  },
  {
   "cell_type": "code",
   "execution_count": 20,
   "id": "365aef19-21f2-4111-9385-76fd36f28c48",
   "metadata": {},
   "outputs": [
    {
     "data": {
      "text/plain": [
       "'{\"number\": 2}'"
      ]
     },
     "execution_count": 20,
     "metadata": {},
     "output_type": "execute_result"
    }
   ],
   "source": [
    "import json\n",
    "\n",
    "def create_json(value):\n",
    "    return json.dumps({\"number\": value})\n",
    "\n",
    "create_json(2)"
   ]
  },
  {
   "cell_type": "markdown",
   "id": "af5b3444-2c80-4e48-8018-6456af3b41a1",
   "metadata": {},
   "source": [
    "##### Now, I will create multiple directories and files and write json files into them"
   ]
  },
  {
   "cell_type": "code",
   "execution_count": 21,
   "id": "d6ca337d-2e13-4cb6-bff2-cb27fc0e2650",
   "metadata": {},
   "outputs": [
    {
     "name": "stdout",
     "output_type": "stream",
     "text": [
      "data\\f-0\\file-0.json\n",
      "data\\f-0\\file-1.json\n",
      "data\\f-0\\file-2.json\n",
      "data\\f-0\\file-3.json\n",
      "data\\f-0\\file-4.json\n",
      "\n",
      "\n",
      "\n",
      "data\\f-1\\file-0.json\n",
      "data\\f-1\\file-1.json\n",
      "data\\f-1\\file-2.json\n",
      "data\\f-1\\file-3.json\n",
      "data\\f-1\\file-4.json\n",
      "\n",
      "\n",
      "\n",
      "data\\f-2\\file-0.json\n",
      "data\\f-2\\file-1.json\n",
      "data\\f-2\\file-2.json\n",
      "data\\f-2\\file-3.json\n",
      "data\\f-2\\file-4.json\n",
      "\n",
      "\n",
      "\n",
      "data\\f-3\\file-0.json\n",
      "data\\f-3\\file-1.json\n",
      "data\\f-3\\file-2.json\n",
      "data\\f-3\\file-3.json\n",
      "data\\f-3\\file-4.json\n",
      "\n",
      "\n",
      "\n",
      "data\\f-4\\file-0.json\n",
      "data\\f-4\\file-1.json\n",
      "data\\f-4\\file-2.json\n",
      "data\\f-4\\file-3.json\n",
      "data\\f-4\\file-4.json\n",
      "\n",
      "\n",
      "\n",
      "data\\f-5\\file-0.json\n",
      "data\\f-5\\file-1.json\n",
      "data\\f-5\\file-2.json\n",
      "data\\f-5\\file-3.json\n",
      "data\\f-5\\file-4.json\n",
      "\n",
      "\n",
      "\n",
      "data\\f-6\\file-0.json\n",
      "data\\f-6\\file-1.json\n",
      "data\\f-6\\file-2.json\n",
      "data\\f-6\\file-3.json\n",
      "data\\f-6\\file-4.json\n",
      "\n",
      "\n",
      "\n",
      "data\\f-7\\file-0.json\n",
      "data\\f-7\\file-1.json\n",
      "data\\f-7\\file-2.json\n",
      "data\\f-7\\file-3.json\n",
      "data\\f-7\\file-4.json\n",
      "\n",
      "\n",
      "\n",
      "data\\f-8\\file-0.json\n",
      "data\\f-8\\file-1.json\n",
      "data\\f-8\\file-2.json\n",
      "data\\f-8\\file-3.json\n",
      "data\\f-8\\file-4.json\n",
      "\n",
      "\n",
      "\n",
      "data\\f-9\\file-0.json\n",
      "data\\f-9\\file-1.json\n",
      "data\\f-9\\file-2.json\n",
      "data\\f-9\\file-3.json\n",
      "data\\f-9\\file-4.json\n",
      "\n",
      "\n",
      "\n"
     ]
    }
   ],
   "source": [
    "for folder in range(10):\n",
    "    for file in range(5):\n",
    "        path = pathlib.Path(\"data\", f\"f-{folder}\", f\"file-{file}.json\")\n",
    "        print(path)\n",
    "    print(\"\\n\\n\")"
   ]
  },
  {
   "cell_type": "code",
   "execution_count": 22,
   "id": "ace55477-0c9f-4023-8619-7455630c23d0",
   "metadata": {},
   "outputs": [],
   "source": [
    "for folder in range(10):\n",
    "    for file in range(5):\n",
    "        path = pathlib.Path(\"data\", f\"f-{folder}\", f\"file-{file}.json\")\n",
    "        if not path.parent.exists():\n",
    "            path.parent.mkdir()\n",
    "        path.write_text(create_json(folder * file))"
   ]
  },
  {
   "cell_type": "markdown",
   "id": "87262de3-29d1-49dd-aec2-5a8c47b411a8",
   "metadata": {},
   "source": [
    "### Get Current Working Directory"
   ]
  },
  {
   "cell_type": "markdown",
   "id": "bc235a9a-0284-4b07-9b11-a0b3d1d217c0",
   "metadata": {},
   "source": [
    "##### We can get Current Working Directory's relative path"
   ]
  },
  {
   "cell_type": "code",
   "execution_count": 25,
   "id": "450c3d82-9f45-41ce-94f8-32d94329a58d",
   "metadata": {},
   "outputs": [
    {
     "data": {
      "text/plain": [
       "WindowsPath('.')"
      ]
     },
     "execution_count": 25,
     "metadata": {},
     "output_type": "execute_result"
    }
   ],
   "source": [
    "from pathlib import Path\n",
    "\n",
    "Path()"
   ]
  },
  {
   "cell_type": "markdown",
   "id": "c1827230-c501-4bf1-9aa7-09f4bad66c03",
   "metadata": {},
   "source": [
    "##### We can get Current Working Directory's absolute path"
   ]
  },
  {
   "cell_type": "code",
   "execution_count": 26,
   "id": "37139ff6-dfa7-4f85-9695-5b39b03fdbf5",
   "metadata": {},
   "outputs": [
    {
     "data": {
      "text/plain": [
       "WindowsPath('E:/github_work/Python libraries(not final)')"
      ]
     },
     "execution_count": 26,
     "metadata": {},
     "output_type": "execute_result"
    }
   ],
   "source": [
    "Path.cwd()"
   ]
  },
  {
   "cell_type": "markdown",
   "id": "1af4867c-9bd7-4cb8-a785-b6f797d250de",
   "metadata": {},
   "source": [
    "### Finding folders and files"
   ]
  },
  {
   "cell_type": "code",
   "execution_count": 28,
   "id": "b220939e-3de2-419f-8ac0-f10e8da01ece",
   "metadata": {},
   "outputs": [
    {
     "data": {
      "text/plain": [
       "[WindowsPath('data/f-0/file-0.json'),\n",
       " WindowsPath('data/f-0/file-1.json'),\n",
       " WindowsPath('data/f-0/file-2.json'),\n",
       " WindowsPath('data/f-0/file-3.json'),\n",
       " WindowsPath('data/f-0/file-4.json'),\n",
       " WindowsPath('data/f-1/file-0.json'),\n",
       " WindowsPath('data/f-1/file-1.json'),\n",
       " WindowsPath('data/f-1/file-2.json'),\n",
       " WindowsPath('data/f-1/file-3.json'),\n",
       " WindowsPath('data/f-1/file-4.json'),\n",
       " WindowsPath('data/f-2/file-0.json'),\n",
       " WindowsPath('data/f-2/file-1.json'),\n",
       " WindowsPath('data/f-2/file-2.json'),\n",
       " WindowsPath('data/f-2/file-3.json'),\n",
       " WindowsPath('data/f-2/file-4.json'),\n",
       " WindowsPath('data/f-3/file-0.json'),\n",
       " WindowsPath('data/f-3/file-1.json'),\n",
       " WindowsPath('data/f-3/file-2.json'),\n",
       " WindowsPath('data/f-3/file-3.json'),\n",
       " WindowsPath('data/f-3/file-4.json'),\n",
       " WindowsPath('data/f-4/file-0.json'),\n",
       " WindowsPath('data/f-4/file-1.json'),\n",
       " WindowsPath('data/f-4/file-2.json'),\n",
       " WindowsPath('data/f-4/file-3.json'),\n",
       " WindowsPath('data/f-4/file-4.json'),\n",
       " WindowsPath('data/f-5/file-0.json'),\n",
       " WindowsPath('data/f-5/file-1.json'),\n",
       " WindowsPath('data/f-5/file-2.json'),\n",
       " WindowsPath('data/f-5/file-3.json'),\n",
       " WindowsPath('data/f-5/file-4.json'),\n",
       " WindowsPath('data/f-6/file-0.json'),\n",
       " WindowsPath('data/f-6/file-1.json'),\n",
       " WindowsPath('data/f-6/file-2.json'),\n",
       " WindowsPath('data/f-6/file-3.json'),\n",
       " WindowsPath('data/f-6/file-4.json'),\n",
       " WindowsPath('data/f-7/file-0.json'),\n",
       " WindowsPath('data/f-7/file-1.json'),\n",
       " WindowsPath('data/f-7/file-2.json'),\n",
       " WindowsPath('data/f-7/file-3.json'),\n",
       " WindowsPath('data/f-7/file-4.json'),\n",
       " WindowsPath('data/f-8/file-0.json'),\n",
       " WindowsPath('data/f-8/file-1.json'),\n",
       " WindowsPath('data/f-8/file-2.json'),\n",
       " WindowsPath('data/f-8/file-3.json'),\n",
       " WindowsPath('data/f-8/file-4.json'),\n",
       " WindowsPath('data/f-9/file-0.json'),\n",
       " WindowsPath('data/f-9/file-1.json'),\n",
       " WindowsPath('data/f-9/file-2.json'),\n",
       " WindowsPath('data/f-9/file-3.json'),\n",
       " WindowsPath('data/f-9/file-4.json')]"
      ]
     },
     "execution_count": 28,
     "metadata": {},
     "output_type": "execute_result"
    }
   ],
   "source": [
    "list(Path().glob(\"data/*/*.json\"))"
   ]
  },
  {
   "cell_type": "code",
   "execution_count": 30,
   "id": "ad29289f-2bef-493c-bdc1-a01a8aacb575",
   "metadata": {},
   "outputs": [
    {
     "data": {
      "text/plain": [
       "[WindowsPath('data/f-0/file-4.json'),\n",
       " WindowsPath('data/f-1/file-4.json'),\n",
       " WindowsPath('data/f-2/file-4.json'),\n",
       " WindowsPath('data/f-3/file-4.json'),\n",
       " WindowsPath('data/f-4/file-4.json'),\n",
       " WindowsPath('data/f-5/file-4.json'),\n",
       " WindowsPath('data/f-6/file-4.json'),\n",
       " WindowsPath('data/f-7/file-4.json'),\n",
       " WindowsPath('data/f-8/file-4.json'),\n",
       " WindowsPath('data/f-9/file-4.json')]"
      ]
     },
     "execution_count": 30,
     "metadata": {},
     "output_type": "execute_result"
    }
   ],
   "source": [
    "[p for p in list(Path().glob(\"data/*/*-4.json\"))]"
   ]
  },
  {
   "cell_type": "code",
   "execution_count": 31,
   "id": "b0de8cfb-7138-4cbc-abc4-7d1a2226709f",
   "metadata": {},
   "outputs": [
    {
     "data": {
      "text/plain": [
       "[WindowsPath('data/f-0'),\n",
       " WindowsPath('data/f-1'),\n",
       " WindowsPath('data/f-2'),\n",
       " WindowsPath('data/f-3'),\n",
       " WindowsPath('data/f-4'),\n",
       " WindowsPath('data/f-5'),\n",
       " WindowsPath('data/f-6'),\n",
       " WindowsPath('data/f-7'),\n",
       " WindowsPath('data/f-8'),\n",
       " WindowsPath('data/f-9')]"
      ]
     },
     "execution_count": 31,
     "metadata": {},
     "output_type": "execute_result"
    }
   ],
   "source": [
    "[p.parent for p in list(Path().glob(\"data/*/*-4.json\"))]"
   ]
  },
  {
   "cell_type": "markdown",
   "id": "8c8020fc-cb20-4e96-b3a4-3313e15ce8c4",
   "metadata": {},
   "source": [
    "##### By using code below we can find all the `.json` files in all the folders and subfolders present within our current working directory"
   ]
  },
  {
   "cell_type": "code",
   "execution_count": 32,
   "id": "5487f136-cded-4e1f-bfa3-1a31c934bef5",
   "metadata": {},
   "outputs": [
    {
     "data": {
      "text/plain": [
       "[WindowsPath('data/configuration.json'),\n",
       " WindowsPath('data/f-0/file-0.json'),\n",
       " WindowsPath('data/f-0/file-1.json'),\n",
       " WindowsPath('data/f-0/file-2.json'),\n",
       " WindowsPath('data/f-0/file-3.json'),\n",
       " WindowsPath('data/f-0/file-4.json'),\n",
       " WindowsPath('data/f-0/.ipynb_checkpoints/file-0-checkpoint.json'),\n",
       " WindowsPath('data/f-0/.ipynb_checkpoints/file-1-checkpoint.json'),\n",
       " WindowsPath('data/f-0/.ipynb_checkpoints/file-2-checkpoint.json'),\n",
       " WindowsPath('data/f-0/.ipynb_checkpoints/file-3-checkpoint.json'),\n",
       " WindowsPath('data/f-0/.ipynb_checkpoints/file-4-checkpoint.json'),\n",
       " WindowsPath('data/f-1/file-0.json'),\n",
       " WindowsPath('data/f-1/file-1.json'),\n",
       " WindowsPath('data/f-1/file-2.json'),\n",
       " WindowsPath('data/f-1/file-3.json'),\n",
       " WindowsPath('data/f-1/file-4.json'),\n",
       " WindowsPath('data/f-2/file-0.json'),\n",
       " WindowsPath('data/f-2/file-1.json'),\n",
       " WindowsPath('data/f-2/file-2.json'),\n",
       " WindowsPath('data/f-2/file-3.json'),\n",
       " WindowsPath('data/f-2/file-4.json'),\n",
       " WindowsPath('data/f-3/file-0.json'),\n",
       " WindowsPath('data/f-3/file-1.json'),\n",
       " WindowsPath('data/f-3/file-2.json'),\n",
       " WindowsPath('data/f-3/file-3.json'),\n",
       " WindowsPath('data/f-3/file-4.json'),\n",
       " WindowsPath('data/f-3/.ipynb_checkpoints/file-0-checkpoint.json'),\n",
       " WindowsPath('data/f-3/.ipynb_checkpoints/file-1-checkpoint.json'),\n",
       " WindowsPath('data/f-3/.ipynb_checkpoints/file-3-checkpoint.json'),\n",
       " WindowsPath('data/f-3/.ipynb_checkpoints/file-4-checkpoint.json'),\n",
       " WindowsPath('data/f-4/file-0.json'),\n",
       " WindowsPath('data/f-4/file-1.json'),\n",
       " WindowsPath('data/f-4/file-2.json'),\n",
       " WindowsPath('data/f-4/file-3.json'),\n",
       " WindowsPath('data/f-4/file-4.json'),\n",
       " WindowsPath('data/f-5/file-0.json'),\n",
       " WindowsPath('data/f-5/file-1.json'),\n",
       " WindowsPath('data/f-5/file-2.json'),\n",
       " WindowsPath('data/f-5/file-3.json'),\n",
       " WindowsPath('data/f-5/file-4.json'),\n",
       " WindowsPath('data/f-6/file-0.json'),\n",
       " WindowsPath('data/f-6/file-1.json'),\n",
       " WindowsPath('data/f-6/file-2.json'),\n",
       " WindowsPath('data/f-6/file-3.json'),\n",
       " WindowsPath('data/f-6/file-4.json'),\n",
       " WindowsPath('data/f-7/file-0.json'),\n",
       " WindowsPath('data/f-7/file-1.json'),\n",
       " WindowsPath('data/f-7/file-2.json'),\n",
       " WindowsPath('data/f-7/file-3.json'),\n",
       " WindowsPath('data/f-7/file-4.json'),\n",
       " WindowsPath('data/f-8/file-0.json'),\n",
       " WindowsPath('data/f-8/file-1.json'),\n",
       " WindowsPath('data/f-8/file-2.json'),\n",
       " WindowsPath('data/f-8/file-3.json'),\n",
       " WindowsPath('data/f-8/file-4.json'),\n",
       " WindowsPath('data/f-9/file-0.json'),\n",
       " WindowsPath('data/f-9/file-1.json'),\n",
       " WindowsPath('data/f-9/file-2.json'),\n",
       " WindowsPath('data/f-9/file-3.json'),\n",
       " WindowsPath('data/f-9/file-4.json'),\n",
       " WindowsPath('settings/config-3.json'),\n",
       " WindowsPath('settings/config.json'),\n",
       " WindowsPath('settings/.ipynb_checkpoints/config-3-checkpoint.json')]"
      ]
     },
     "execution_count": 32,
     "metadata": {},
     "output_type": "execute_result"
    }
   ],
   "source": [
    "[p for p in Path().glob(\"**/*.json\")]"
   ]
  }
 ],
 "metadata": {
  "kernelspec": {
   "display_name": "Python 3",
   "language": "python",
   "name": "python3"
  },
  "language_info": {
   "codemirror_mode": {
    "name": "ipython",
    "version": 3
   },
   "file_extension": ".py",
   "mimetype": "text/x-python",
   "name": "python",
   "nbconvert_exporter": "python",
   "pygments_lexer": "ipython3",
   "version": "3.8.8"
  }
 },
 "nbformat": 4,
 "nbformat_minor": 5
}
