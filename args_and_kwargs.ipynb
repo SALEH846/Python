{
 "cells": [
  {
   "cell_type": "markdown",
   "metadata": {},
   "source": [
    "# Context"
   ]
  },
  {
   "cell_type": "markdown",
   "metadata": {},
   "source": [
    "This function cannot multiply any number of numbers other than two"
   ]
  },
  {
   "cell_type": "code",
   "execution_count": 2,
   "metadata": {},
   "outputs": [
    {
     "data": {
      "text/plain": [
       "8"
      ]
     },
     "execution_count": 2,
     "metadata": {},
     "output_type": "execute_result"
    }
   ],
   "source": [
    "def multiply(a, b):\n",
    "    return a * b\n",
    "\n",
    "multiply(2, 4)"
   ]
  },
  {
   "cell_type": "markdown",
   "metadata": {},
   "source": [
    "One way to solve this problem is to pass a list to function"
   ]
  },
  {
   "cell_type": "code",
   "execution_count": 6,
   "metadata": {},
   "outputs": [
    {
     "data": {
      "text/plain": [
       "144"
      ]
     },
     "execution_count": 6,
     "metadata": {},
     "output_type": "execute_result"
    }
   ],
   "source": [
    "def multiply(numbers):\n",
    "    result = 1\n",
    "    for n in numbers:\n",
    "        result *= n\n",
    "    return result\n",
    "\n",
    "multiply([6, 4, 2, 3])"
   ]
  },
  {
   "cell_type": "markdown",
   "metadata": {},
   "source": [
    "But this turns out not to be a good solution"
   ]
  },
  {
   "cell_type": "markdown",
   "metadata": {},
   "source": [
    "Another way to solve this problem is to use python built-in *args"
   ]
  },
  {
   "cell_type": "markdown",
   "metadata": {},
   "source": [
    "# *args"
   ]
  },
  {
   "cell_type": "code",
   "execution_count": 7,
   "metadata": {},
   "outputs": [
    {
     "data": {
      "text/plain": [
       "144"
      ]
     },
     "execution_count": 7,
     "metadata": {},
     "output_type": "execute_result"
    }
   ],
   "source": [
    "def multiply(*args):\n",
    "    result = 1\n",
    "    for n in args:\n",
    "        result *= n\n",
    "    return result\n",
    "\n",
    "multiply(6, 4, 3, 2)"
   ]
  },
  {
   "cell_type": "markdown",
   "metadata": {},
   "source": [
    "All the arguments passed in place of *args are converted into tuple"
   ]
  },
  {
   "cell_type": "code",
   "execution_count": 9,
   "metadata": {},
   "outputs": [
    {
     "name": "stdout",
     "output_type": "stream",
     "text": [
      "2 4\n",
      "(6, 1, 9)\n"
     ]
    }
   ],
   "source": [
    "def show_args(a, b, *args):\n",
    "    print(a, b)\n",
    "    print(args)\n",
    "    \n",
    "show_args(2, 4, 6, 1, 9)"
   ]
  },
  {
   "cell_type": "markdown",
   "metadata": {},
   "source": [
    "# **kwargs"
   ]
  },
  {
   "cell_type": "markdown",
   "metadata": {},
   "source": [
    "We can also pass as many keyword arguments as we want using **kwargs"
   ]
  },
  {
   "cell_type": "code",
   "execution_count": 12,
   "metadata": {},
   "outputs": [
    {
     "name": "stdout",
     "output_type": "stream",
     "text": [
      "2 4\n",
      "(6, 1, 9)\n",
      "{'param1': 42, 'param2': 56}\n"
     ]
    }
   ],
   "source": [
    "def show_args_and_kwargs(a, b, *args, **kwargs):\n",
    "    print(a, b)\n",
    "    print(args)\n",
    "    print(kwargs)\n",
    "    \n",
    "show_args_and_kwargs(2, 4, 6, 1, 9, param1=42, param2=56)"
   ]
  },
  {
   "cell_type": "markdown",
   "metadata": {},
   "source": [
    "## NOTE: Positional arguments must not follow keyword arguments"
   ]
  },
  {
   "cell_type": "markdown",
   "metadata": {},
   "source": [
    "Positional arguments should always come before keyword arguments"
   ]
  },
  {
   "cell_type": "code",
   "execution_count": 13,
   "metadata": {},
   "outputs": [
    {
     "ename": "SyntaxError",
     "evalue": "positional argument follows keyword argument (<ipython-input-13-d07e6ee96919>, line 6)",
     "output_type": "error",
     "traceback": [
      "\u001b[1;36m  File \u001b[1;32m\"<ipython-input-13-d07e6ee96919>\"\u001b[1;36m, line \u001b[1;32m6\u001b[0m\n\u001b[1;33m    show_args_and_kwargs(2, 4, param1=42, param2=56, 6, 1, 9)\u001b[0m\n\u001b[1;37m                                                    ^\u001b[0m\n\u001b[1;31mSyntaxError\u001b[0m\u001b[1;31m:\u001b[0m positional argument follows keyword argument\n"
     ]
    }
   ],
   "source": [
    "def show_args_and_kwargs(a, b, *args, **kwargs):\n",
    "    print(a, b)\n",
    "    print(args)\n",
    "    print(kwargs)\n",
    "    \n",
    "show_args_and_kwargs(2, 4, param1=42, param2=56, 6, 1, 9)"
   ]
  },
  {
   "cell_type": "markdown",
   "metadata": {},
   "source": [
    "# Passing lists and dictionries as function arguments and unpacking them"
   ]
  },
  {
   "cell_type": "code",
   "execution_count": 14,
   "metadata": {},
   "outputs": [
    {
     "name": "stdout",
     "output_type": "stream",
     "text": [
      "2 4\n",
      "(1, 6, 8, 3)\n",
      "{'param1': 42, 'param_a': 43, 'param_b': 34}\n"
     ]
    }
   ],
   "source": [
    "def show_args_and_kwargs(a, b, *args, **kwargs):\n",
    "    print(a, b)\n",
    "    print(args)\n",
    "    print(kwargs)\n",
    "    \n",
    "my_dict = {\"param_a\": 43, \"param_b\": 34}\n",
    "my_list = [6, 8, 3]\n",
    "show_args_and_kwargs(2, 4, 1, *my_list, param1=42, **my_dict)"
   ]
  },
  {
   "cell_type": "markdown",
   "metadata": {},
   "source": [
    "If passed without * and ** then python will not unpack list and dictionaries respectively"
   ]
  },
  {
   "cell_type": "code",
   "execution_count": 16,
   "metadata": {},
   "outputs": [
    {
     "name": "stdout",
     "output_type": "stream",
     "text": [
      "2 4\n",
      "(1, [6, 8, 3])\n",
      "{'param1': 42, 'my_dict': {'param_a': 43, 'param_b': 34}}\n"
     ]
    }
   ],
   "source": [
    "show_args_and_kwargs(2, 4, 1, my_list, param1=42, my_dict=my_dict)"
   ]
  },
  {
   "cell_type": "markdown",
   "metadata": {},
   "source": [
    "# Use Case"
   ]
  },
  {
   "cell_type": "code",
   "execution_count": 31,
   "metadata": {},
   "outputs": [],
   "source": [
    "import json\n",
    "import pathlib\n",
    "\n",
    "def dict_to_config(dictionary, file=\"config.json\", verbose=False, **kwargs):\n",
    "    json_to_write = json.dumps(dictionary, **kwargs)\n",
    "    if verbose:\n",
    "        print(dictionary)\n",
    "    pathlib.Path(file).write_text(json_to_write)"
   ]
  },
  {
   "cell_type": "code",
   "execution_count": 32,
   "metadata": {},
   "outputs": [
    {
     "name": "stdout",
     "output_type": "stream",
     "text": [
      "{'name': 'Saleh', 'age': 20, 'height': 6.1}\n"
     ]
    }
   ],
   "source": [
    "my_dict = {\"name\": \"Saleh\", \"age\": 20, \"height\": 6.1}\n",
    "\n",
    "dict_to_config(my_dict, verbose=True, indent = 4)"
   ]
  },
  {
   "cell_type": "code",
   "execution_count": 33,
   "metadata": {},
   "outputs": [
    {
     "name": "stdout",
     "output_type": "stream",
     "text": [
      "args_and_kwargs.ipynb\n",
      "config.json\n"
     ]
    }
   ],
   "source": [
    "!ls"
   ]
  },
  {
   "cell_type": "code",
   "execution_count": 34,
   "metadata": {},
   "outputs": [
    {
     "name": "stdout",
     "output_type": "stream",
     "text": [
      "{\n",
      "    \"name\": \"Saleh\",\n",
      "    \"age\": 20,\n",
      "    \"height\": 6.1\n",
      "}\n"
     ]
    }
   ],
   "source": [
    "!type config.json"
   ]
  },
  {
   "cell_type": "code",
   "execution_count": 35,
   "metadata": {},
   "outputs": [
    {
     "name": "stdout",
     "output_type": "stream",
     "text": [
      "{\n",
      "    \"name\": \"Saleh\",\n",
      "    \"age\": 20,\n",
      "    \"height\": 6.1\n",
      "}\n"
     ]
    }
   ],
   "source": [
    "!cat config.json"
   ]
  },
  {
   "cell_type": "code",
   "execution_count": 37,
   "metadata": {},
   "outputs": [],
   "source": [
    "!config.json # this will open the json file in the default json file viewer"
   ]
  }
 ],
 "metadata": {
  "kernelspec": {
   "display_name": "Python 3",
   "language": "python",
   "name": "python3"
  },
  "language_info": {
   "codemirror_mode": {
    "name": "ipython",
    "version": 3
   },
   "file_extension": ".py",
   "mimetype": "text/x-python",
   "name": "python",
   "nbconvert_exporter": "python",
   "pygments_lexer": "ipython3",
   "version": "3.7.3"
  }
 },
 "nbformat": 4,
 "nbformat_minor": 2
}
